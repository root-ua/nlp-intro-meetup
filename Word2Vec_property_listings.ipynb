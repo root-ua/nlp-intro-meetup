{
 "cells": [
  {
   "cell_type": "code",
   "execution_count": 1,
   "metadata": {
    "collapsed": true
   },
   "outputs": [],
   "source": [
    "import numpy as np\n",
    "import pandas as pd\n",
    "import nltk\n",
    "import gensim\n",
    "from collections import defaultdict"
   ]
  },
  {
   "cell_type": "code",
   "execution_count": 2,
   "metadata": {
    "collapsed": true
   },
   "outputs": [],
   "source": [
    "df = pd.read_csv('./property_sale_listings_buid.csv')\n",
    "descriptions = df['description'].values"
   ]
  },
  {
   "cell_type": "code",
   "execution_count": 3,
   "metadata": {
    "collapsed": true
   },
   "outputs": [],
   "source": [
    "sentences = []\n",
    "\n",
    "for _description in descriptions:\n",
    "    if not isinstance(_description, str) or len(_description) < 10:\n",
    "        continue\n",
    "\n",
    "    _sentences = nltk.sent_tokenize(_description.strip())\n",
    "    \n",
    "    for _sentence in _sentences:\n",
    "        if len(_sentence) >= 10:\n",
    "            _words = nltk.word_tokenize(_sentence.lower())\n",
    "            words = []\n",
    "            for _word in _words:\n",
    "                if isinstance(_word, str) and len(_word) >= 3:\n",
    "                    words.append(_word)\n",
    "            sentences.append(words)"
   ]
  },
  {
   "cell_type": "code",
   "execution_count": 4,
   "metadata": {
    "collapsed": true
   },
   "outputs": [],
   "source": [
    "model = gensim.models.word2vec.Word2Vec(sentences, size=500, workers=32, window=6, min_count=500)"
   ]
  },
  {
   "cell_type": "code",
   "execution_count": 5,
   "metadata": {
    "collapsed": true
   },
   "outputs": [],
   "source": [
    "model.save('listings.w2v')"
   ]
  },
  {
   "cell_type": "code",
   "execution_count": 6,
   "metadata": {
    "collapsed": false
   },
   "outputs": [
    {
     "data": {
      "text/plain": [
       "[('beach', 0.44137459993362427),\n",
       " ('islands', 0.39545655250549316),\n",
       " ('village', 0.3279619812965393),\n",
       " ('coastline', 0.3126775920391083),\n",
       " ('lake', 0.2929638624191284)]"
      ]
     },
     "execution_count": 6,
     "metadata": {},
     "output_type": "execute_result"
    }
   ],
   "source": [
    "model.wv.most_similar(['palm'], topn=5)"
   ]
  },
  {
   "cell_type": "code",
   "execution_count": 7,
   "metadata": {
    "collapsed": false
   },
   "outputs": [
    {
     "data": {
      "text/plain": [
       "[('lake', 0.5483893156051636),\n",
       " ('islands', 0.3079361319541931),\n",
       " ('portico', 0.2869998812675476),\n",
       " ('tiffany', 0.2812179625034332),\n",
       " ('armada', 0.2660098969936371),\n",
       " ('fairways', 0.26171672344207764),\n",
       " ('park', 0.25915026664733887),\n",
       " ('golf', 0.25773540139198303),\n",
       " ('madina', 0.25611937046051025),\n",
       " ('skycourt', 0.2527719736099243)]"
      ]
     },
     "execution_count": 7,
     "metadata": {},
     "output_type": "execute_result"
    }
   ],
   "source": [
    "model.wv.most_similar(['lakes'], topn=10)"
   ]
  }
 ],
 "metadata": {
  "kernelspec": {
   "display_name": "Python 3",
   "language": "python",
   "name": "python3"
  },
  "language_info": {
   "codemirror_mode": {
    "name": "ipython",
    "version": 3
   },
   "file_extension": ".py",
   "mimetype": "text/x-python",
   "name": "python",
   "nbconvert_exporter": "python",
   "pygments_lexer": "ipython3",
   "version": "3.5.2"
  }
 },
 "nbformat": 4,
 "nbformat_minor": 2
}
