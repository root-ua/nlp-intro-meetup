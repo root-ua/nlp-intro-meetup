{
 "cells": [
  {
   "cell_type": "code",
   "execution_count": 1,
   "metadata": {
    "collapsed": true,
    "deletable": true,
    "editable": true
   },
   "outputs": [],
   "source": [
    "# Import required Python packages\n",
    "import nltk\n",
    "import gensim\n",
    "from sklearn.datasets import fetch_20newsgroups"
   ]
  },
  {
   "cell_type": "code",
   "execution_count": 2,
   "metadata": {
    "collapsed": false,
    "deletable": true,
    "editable": true
   },
   "outputs": [],
   "source": [
    "# Download news groups dataset\n",
    "news = fetch_20newsgroups().data"
   ]
  },
  {
   "cell_type": "code",
   "execution_count": 3,
   "metadata": {
    "collapsed": true,
    "deletable": true,
    "editable": true
   },
   "outputs": [],
   "source": [
    "# Original topic names\n",
    "original_topics = fetch_20newsgroups().target_names"
   ]
  },
  {
   "cell_type": "code",
   "execution_count": 4,
   "metadata": {
    "collapsed": false,
    "deletable": true,
    "editable": true
   },
   "outputs": [
    {
     "data": {
      "text/plain": [
       "11314"
      ]
     },
     "execution_count": 4,
     "metadata": {},
     "output_type": "execute_result"
    }
   ],
   "source": [
    "# Dataset size\n",
    "len(news)"
   ]
  },
  {
   "cell_type": "code",
   "execution_count": 5,
   "metadata": {
    "collapsed": false,
    "deletable": true,
    "editable": true
   },
   "outputs": [
    {
     "data": {
      "text/plain": [
       "\"From: lerxst@wam.umd.edu (where's my thing)\\nSubject: WHAT car is this!?\\nNntp-Posting-Host: rac3.wam.umd.edu\\nOrganization: University of Maryland, College Park\\nLines: 15\\n\\n I was wondering if anyone out there could enlighten me on this car I saw\\nthe other day. It was a 2-door sports car, looked to be from the late 60s/\\nearly 70s. It was called a Bricklin. The doors were really small. In addition,\\nthe front bumper was separate from the rest of the body. This is \\nall I know. If anyone can tellme a model name, engine specs, years\\nof production, where this car is made, history, or whatever info you\\nhave on this funky looking car, please e-mail.\\n\\nThanks,\\n- IL\\n   ---- brought to you by your neighborhood Lerxst ----\\n\\n\\n\\n\\n\""
      ]
     },
     "execution_count": 5,
     "metadata": {},
     "output_type": "execute_result"
    }
   ],
   "source": [
    "# First record in dataset\n",
    "news[0]"
   ]
  },
  {
   "cell_type": "code",
   "execution_count": 6,
   "metadata": {
    "collapsed": false,
    "deletable": true,
    "editable": true
   },
   "outputs": [],
   "source": [
    "# Download stop words for English\n",
    "stop_words = nltk.corpus.stopwords.words('english')"
   ]
  },
  {
   "cell_type": "code",
   "execution_count": 7,
   "metadata": {
    "collapsed": false,
    "deletable": true,
    "editable": true
   },
   "outputs": [],
   "source": [
    "# Initialize lemmatization object for English\n",
    "lemmatizer = nltk.stem.WordNetLemmatizer()"
   ]
  },
  {
   "cell_type": "code",
   "execution_count": 8,
   "metadata": {
    "collapsed": false,
    "deletable": true,
    "editable": true
   },
   "outputs": [],
   "source": [
    "# Covert raw text into word tokens, select only those where length >= 3 and it's not in stop words list\n",
    "# Convert all words to lowercase and remore extra whitespaces\n",
    "# Perform POS tagging and convert each word to it's lemma\n",
    "documents = []\n",
    "for item in news:\n",
    "    words = []\n",
    "    _words = nltk.word_tokenize(item)\n",
    "    _words = nltk.pos_tag(_words)\n",
    "    for _word, _tag in _words:\n",
    "        if isinstance(_word, str) and len(_word) >= 3 and not _word.isdigit() and _word not in stop_words:\n",
    "            _word = _word.lower().strip()\n",
    "            _word = lemmatizer.lemmatize(_word)\n",
    "            words.append(_word)\n",
    "    documents.append(words)    "
   ]
  },
  {
   "cell_type": "code",
   "execution_count": 9,
   "metadata": {
    "collapsed": false,
    "deletable": true,
    "editable": true
   },
   "outputs": [],
   "source": [
    "# Convert tokenized documents into a dictionary (id -> term)\n",
    "dictionary = gensim.corpora.Dictionary(documents)"
   ]
  },
  {
   "cell_type": "code",
   "execution_count": 10,
   "metadata": {
    "collapsed": true,
    "deletable": true,
    "editable": true
   },
   "outputs": [],
   "source": [
    "# Convert tokenized documents into a document-term matrix\n",
    "corpus = [dictionary.doc2bow(doc) for doc in documents]"
   ]
  },
  {
   "cell_type": "code",
   "execution_count": 11,
   "metadata": {
    "collapsed": true,
    "deletable": true,
    "editable": true
   },
   "outputs": [],
   "source": [
    "# Train LDA models for 20 topics\n",
    "lda = gensim.models.ldamodel.LdaModel(corpus, num_topics=20, id2word=dictionary, passes=30)"
   ]
  },
  {
   "cell_type": "code",
   "execution_count": 12,
   "metadata": {
    "collapsed": false,
    "deletable": true,
    "editable": true
   },
   "outputs": [
    {
     "data": {
      "text/plain": [
       "[(0,\n",
       "  '0.006*\"dyer\" + 0.006*\"chi\" + 0.004*\"jaeger\" + 0.004*\"edm\" + 0.004*\"steve\"'),\n",
       " (1,\n",
       "  '0.008*\"target\" + 0.008*\"article\" + 0.008*\"from\" + 0.007*\"organization\" + 0.007*\"men\"'),\n",
       " (2, '0.004*\"55.0\" + 0.004*\"a86\" + 0.003*\"6um\" + 0.002*\"/3t\" + 0.002*\"0el\"'),\n",
       " (3,\n",
       "  '0.026*\"drive\" + 0.012*\"disk\" + 0.009*\"system\" + 0.007*\"hard\" + 0.007*\"controller\"'),\n",
       " (4,\n",
       "  '0.021*\"n\\'t\" + 0.009*\"one\" + 0.008*\"the\" + 0.007*\"people\" + 0.007*\"would\"'),\n",
       " (5,\n",
       "  '0.016*\"entry\" + 0.010*\"file\" + 0.007*\"program\" + 0.006*\"line\" + 0.006*\"output\"'),\n",
       " (6, '0.007*\"det\" + 0.007*\"bos\" + 0.006*\"tor\" + 0.006*\"min\" + 0.006*\"que\"'),\n",
       " (7,\n",
       "  '0.013*\"the\" + 0.009*\"space\" + 0.003*\"system\" + 0.003*\"year\" + 0.003*\"nasa\"'),\n",
       " (8,\n",
       "  '0.007*\"the\" + 0.006*\"health\" + 0.005*\"medical\" + 0.004*\"center\" + 0.004*\"research\"'),\n",
       " (9,\n",
       "  '0.023*\"...\" + 0.019*\"line\" + 0.018*\"from\" + 0.018*\"subject\" + 0.017*\"organization\"'),\n",
       " (10,\n",
       "  '0.016*\"line\" + 0.015*\"from\" + 0.015*\"subject\" + 0.014*\"organization\" + 0.011*\"n\\'t\"'),\n",
       " (11, '0.564*\"\\'ax\" + 0.042*\"max\" + 0.012*\"q,3\" + 0.009*\"b8f\" + 0.008*\"a86\"'),\n",
       " (12,\n",
       "  '0.016*\"god\" + 0.009*\"the\" + 0.009*\"one\" + 0.009*\"n\\'t\" + 0.007*\"christian\"'),\n",
       " (13,\n",
       "  '0.005*\"new\" + 0.003*\"copy\" + 0.003*\"art\" + 0.003*\"cover\" + 0.003*\"appears\"'),\n",
       " (14,\n",
       "  '0.018*\"armenian\" + 0.012*\"the\" + 0.012*\"turkish\" + 0.008*\"greek\" + 0.006*\"turk\"'),\n",
       " (15,\n",
       "  '0.011*\"card\" + 0.011*\"line\" + 0.009*\"from\" + 0.009*\"subject\" + 0.009*\"organization\"'),\n",
       " (16,\n",
       "  '0.015*\"game\" + 0.014*\"team\" + 0.009*\"player\" + 0.008*\"the\" + 0.008*\"year\"'),\n",
       " (17,\n",
       "  '0.011*\"the\" + 0.009*\"would\" + 0.008*\"n\\'t\" + 0.008*\"people\" + 0.006*\"right\"'),\n",
       " (18,\n",
       "  '0.004*\"mov\" + 0.002*\"byte\" + 0.002*\"oasys.dt.navy.mil\" + 0.002*\"van\" + 0.002*\"dee\"'),\n",
       " (19,\n",
       "  '0.013*\"the\" + 0.013*\"file\" + 0.011*\"key\" + 0.008*\"use\" + 0.006*\"system\"')]"
      ]
     },
     "execution_count": 12,
     "metadata": {},
     "output_type": "execute_result"
    }
   ],
   "source": [
    "# Print all 20 topics, and top-5 words related to each\n",
    "lda.print_topics(num_topics=20, num_words=5)"
   ]
  },
  {
   "cell_type": "code",
   "execution_count": 13,
   "metadata": {
    "collapsed": true,
    "deletable": true,
    "editable": true
   },
   "outputs": [],
   "source": [
    "# Save the model\n",
    "lda.save('news_groups.lda')"
   ]
  },
  {
   "cell_type": "code",
   "execution_count": 14,
   "metadata": {
    "collapsed": false,
    "deletable": true,
    "editable": true
   },
   "outputs": [
    {
     "data": {
      "text/plain": [
       "['alt.atheism',\n",
       " 'comp.graphics',\n",
       " 'comp.os.ms-windows.misc',\n",
       " 'comp.sys.ibm.pc.hardware',\n",
       " 'comp.sys.mac.hardware',\n",
       " 'comp.windows.x',\n",
       " 'misc.forsale',\n",
       " 'rec.autos',\n",
       " 'rec.motorcycles',\n",
       " 'rec.sport.baseball',\n",
       " 'rec.sport.hockey',\n",
       " 'sci.crypt',\n",
       " 'sci.electronics',\n",
       " 'sci.med',\n",
       " 'sci.space',\n",
       " 'soc.religion.christian',\n",
       " 'talk.politics.guns',\n",
       " 'talk.politics.mideast',\n",
       " 'talk.politics.misc',\n",
       " 'talk.religion.misc']"
      ]
     },
     "execution_count": 14,
     "metadata": {},
     "output_type": "execute_result"
    }
   ],
   "source": [
    "# Print original topic names\n",
    "original_topics"
   ]
  }
 ],
 "metadata": {
  "kernelspec": {
   "display_name": "Python 3",
   "language": "python",
   "name": "python3"
  },
  "language_info": {
   "codemirror_mode": {
    "name": "ipython",
    "version": 3
   },
   "file_extension": ".py",
   "mimetype": "text/x-python",
   "name": "python",
   "nbconvert_exporter": "python",
   "pygments_lexer": "ipython3",
   "version": "3.5.2"
  }
 },
 "nbformat": 4,
 "nbformat_minor": 2
}
