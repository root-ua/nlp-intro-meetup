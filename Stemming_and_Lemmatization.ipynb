{
 "cells": [
  {
   "cell_type": "code",
   "execution_count": 1,
   "metadata": {
    "collapsed": true
   },
   "outputs": [],
   "source": [
    "# Import Python library for NLP\n",
    "import nltk"
   ]
  },
  {
   "cell_type": "code",
   "execution_count": 2,
   "metadata": {
    "collapsed": true
   },
   "outputs": [],
   "source": [
    "# Initializing stemming/lemmatization objects for English\n",
    "stemmer = nltk.stem.SnowballStemmer(language='english')\n",
    "lemmatizer = nltk.stem.WordNetLemmatizer()"
   ]
  },
  {
   "cell_type": "code",
   "execution_count": 3,
   "metadata": {
    "collapsed": true
   },
   "outputs": [],
   "source": [
    "# Defining words that we would like to prcoess\n",
    "words = ['cement', 'read', 'swimming', 'including', \n",
    "         'qualification', 'reinventing', 'underestimating', \n",
    "         'are', 'was', 'being', 'slept', 'arisen', 'dealt']"
   ]
  },
  {
   "cell_type": "code",
   "execution_count": 4,
   "metadata": {
    "collapsed": false
   },
   "outputs": [
    {
     "name": "stdout",
     "output_type": "stream",
     "text": [
      "Word \"cement\": lemma - cement, stem - cement\n",
      "Word \"read\": lemma - read, stem - read\n",
      "Word \"swimming\": lemma - swimming, stem - swim\n",
      "Word \"including\": lemma - including, stem - includ\n",
      "Word \"qualification\": lemma - qualification, stem - qualif\n",
      "Word \"reinventing\": lemma - reinventing, stem - reinvent\n",
      "Word \"underestimating\": lemma - underestimating, stem - underestim\n",
      "Word \"are\": lemma - are, stem - are\n",
      "Word \"was\": lemma - wa, stem - was\n",
      "Word \"being\": lemma - being, stem - be\n",
      "Word \"slept\": lemma - slept, stem - slept\n",
      "Word \"arisen\": lemma - arisen, stem - arisen\n",
      "Word \"dealt\": lemma - dealt, stem - dealt\n"
     ]
    }
   ],
   "source": [
    "# Printing lemma and stem for each word\n",
    "for _word in words:\n",
    "    _lemma = lemmatizer.lemmatize(_word)\n",
    "    _stem = stemmer.stem(_word)\n",
    "    print('Word \"{0}\": lemma - {1}, stem - {2}'.format(_word, _lemma, _stem))"
   ]
  },
  {
   "cell_type": "code",
   "execution_count": 5,
   "metadata": {
    "collapsed": false
   },
   "outputs": [
    {
     "data": {
      "text/plain": [
       "'be'"
      ]
     },
     "execution_count": 5,
     "metadata": {},
     "output_type": "execute_result"
    }
   ],
   "source": [
    "# Lemmatizer takes part-of-speeach tag as an optional paramater, \n",
    "# which allow us to predict lemma more accurately\n",
    "lemmatizer.lemmatize('was', pos='v')"
   ]
  },
  {
   "cell_type": "code",
   "execution_count": 6,
   "metadata": {
    "collapsed": false
   },
   "outputs": [
    {
     "data": {
      "text/plain": [
       "[('cement', 'NN'),\n",
       " ('read', 'VBD'),\n",
       " ('swimming', 'VBG'),\n",
       " ('including', 'VBG'),\n",
       " ('qualification', 'NN'),\n",
       " ('reinventing', 'VBG'),\n",
       " ('underestimating', 'VBG'),\n",
       " ('are', 'VBP'),\n",
       " ('was', 'VBD'),\n",
       " ('being', 'VBG'),\n",
       " ('slept', 'JJ'),\n",
       " ('arisen', 'NN'),\n",
       " ('dealt', 'NN')]"
      ]
     },
     "execution_count": 6,
     "metadata": {},
     "output_type": "execute_result"
    }
   ],
   "source": [
    "# Let's do POS-tagging for each word in our set\n",
    "tagged_words = nltk.pos_tag(words)\n",
    "tagged_words"
   ]
  },
  {
   "cell_type": "code",
   "execution_count": 7,
   "metadata": {
    "collapsed": false
   },
   "outputs": [],
   "source": [
    "# Helper function to convert NLTK POS-tag into WordNet POS-tag\n",
    "def get_wordnet_pos(tag):\n",
    "    mappings = {'J': 'a', 'V': 'v', 'N': 'n', 'R': 'r'}\n",
    "    return mappings.get(tag[:1], 'n')"
   ]
  },
  {
   "cell_type": "code",
   "execution_count": 8,
   "metadata": {
    "collapsed": false
   },
   "outputs": [
    {
     "name": "stdout",
     "output_type": "stream",
     "text": [
      "Word \"cement\": lemma - cement, stem - cement\n",
      "Word \"read\": lemma - read, stem - read\n",
      "Word \"swimming\": lemma - swim, stem - swim\n",
      "Word \"including\": lemma - include, stem - includ\n",
      "Word \"qualification\": lemma - qualification, stem - qualif\n",
      "Word \"reinventing\": lemma - reinvent, stem - reinvent\n",
      "Word \"underestimating\": lemma - underestimate, stem - underestim\n",
      "Word \"are\": lemma - be, stem - are\n",
      "Word \"was\": lemma - be, stem - was\n",
      "Word \"being\": lemma - be, stem - be\n",
      "Word \"slept\": lemma - slept, stem - slept\n",
      "Word \"arisen\": lemma - arisen, stem - arisen\n",
      "Word \"dealt\": lemma - dealt, stem - dealt\n"
     ]
    }
   ],
   "source": [
    "# Print lemma/stem for each word again,\n",
    "# now taking in account POS-tags\n",
    "for _word, _tag in tagged_words:\n",
    "    _lemma = lemmatizer.lemmatize(_word, pos=get_wordnet_pos(_tag))\n",
    "    _stem = stemmer.stem(_word)\n",
    "    print('Word \"{0}\": lemma - {1}, stem - {2}'.format(_word, _lemma, _stem))"
   ]
  }
 ],
 "metadata": {
  "kernelspec": {
   "display_name": "Python 3",
   "language": "python",
   "name": "python3"
  },
  "language_info": {
   "codemirror_mode": {
    "name": "ipython",
    "version": 3.0
   },
   "file_extension": ".py",
   "mimetype": "text/x-python",
   "name": "python",
   "nbconvert_exporter": "python",
   "pygments_lexer": "ipython3",
   "version": "3.5.2"
  }
 },
 "nbformat": 4,
 "nbformat_minor": 0
}