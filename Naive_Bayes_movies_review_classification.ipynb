{
 "cells": [
  {
   "cell_type": "code",
   "execution_count": 1,
   "metadata": {
    "collapsed": true
   },
   "outputs": [],
   "source": [
    "# Import required Python libraries\n",
    "import nltk\n",
    "from nltk.corpus import movie_reviews\n",
    "\n",
    "from sklearn.naive_bayes import MultinomialNB\n",
    "from sklearn.feature_extraction.text import CountVectorizer\n",
    "from sklearn.metrics import f1_score"
   ]
  },
  {
   "cell_type": "code",
   "execution_count": 2,
   "metadata": {
    "collapsed": true
   },
   "outputs": [],
   "source": [
    "# Convert original lables to binary form\n",
    "tag_mapping = {'neg': 0, 'pos': 1}\n",
    "\n",
    "# Human readable labels\n",
    "inv_tag_mapping = {0: 'Negative', 1: 'Positive'}"
   ]
  },
  {
   "cell_type": "code",
   "execution_count": 3,
   "metadata": {
    "collapsed": true
   },
   "outputs": [],
   "source": [
    "# Initialize vectorizer object which will convert our words to frequency matrix\n",
    "# and as well normzalize words beforehand: convert them to lowercase, remove rare and frequent words, remove stop words\n",
    "vectorizer = CountVectorizer(lowercase=True, stop_words='english', min_df=2, max_df=0.95, max_features=5000)"
   ]
  },
  {
   "cell_type": "code",
   "execution_count": 4,
   "metadata": {
    "collapsed": true
   },
   "outputs": [],
   "source": [
    "# Convert movie reviews to an array\n",
    "reviews = []\n",
    "labels = []\n",
    "\n",
    "for review_path in movie_reviews.fileids():\n",
    "    \n",
    "    label = tag_mapping[review_path[:3]]\n",
    "    labels.append(label)\n",
    "    \n",
    "    review = movie_reviews.raw(fileids=[review_path])\n",
    "    reviews.append(review)"
   ]
  },
  {
   "cell_type": "code",
   "execution_count": 5,
   "metadata": {
    "collapsed": false
   },
   "outputs": [
    {
     "data": {
      "text/plain": [
       "'plot : two teen couples go to a church party , drink and then drive . \\nthey get into an accident . \\none of the guys dies , but his girlfriend continues to see him in her life , and has nightmares . \\nwhat\\'s the deal ? \\nwatch the movie and \" sorta \" find out . . . \\ncritique : a mind-fuck movie for the teen generation that touches on a very cool idea , but presents it in a very bad package . \\nwhich is what makes this review an even harder one to write , since i generally applaud films which attempt'"
      ]
     },
     "execution_count": 5,
     "metadata": {},
     "output_type": "execute_result"
    }
   ],
   "source": [
    "# Show part of 1st movie review (first 500 symbols)\n",
    "reviews[0][:500]"
   ]
  },
  {
   "cell_type": "code",
   "execution_count": 6,
   "metadata": {
    "collapsed": false
   },
   "outputs": [
    {
     "data": {
      "text/plain": [
       "0"
      ]
     },
     "execution_count": 6,
     "metadata": {},
     "output_type": "execute_result"
    }
   ],
   "source": [
    "# Label of 1st movie review\n",
    "labels[0]"
   ]
  },
  {
   "cell_type": "code",
   "execution_count": 7,
   "metadata": {
    "collapsed": false
   },
   "outputs": [
    {
     "data": {
      "text/plain": [
       "(2000, 5000)"
      ]
     },
     "execution_count": 7,
     "metadata": {},
     "output_type": "execute_result"
    }
   ],
   "source": [
    "# Transform words to a feature matrix form\n",
    "X_train = vectorizer.fit_transform(reviews)\n",
    "X_train.shape"
   ]
  },
  {
   "cell_type": "code",
   "execution_count": 8,
   "metadata": {
    "collapsed": false
   },
   "outputs": [
    {
     "data": {
      "text/plain": [
       "MultinomialNB(alpha=1.0, class_prior=None, fit_prior=True)"
      ]
     },
     "execution_count": 8,
     "metadata": {},
     "output_type": "execute_result"
    }
   ],
   "source": [
    "# Initialize and train Bayesian classifier\n",
    "clf = MultinomialNB()\n",
    "clf.fit(X_train, labels)"
   ]
  },
  {
   "cell_type": "code",
   "execution_count": 9,
   "metadata": {
    "collapsed": false
   },
   "outputs": [
    {
     "data": {
      "text/plain": [
       "0.9016811003565971"
      ]
     },
     "execution_count": 9,
     "metadata": {},
     "output_type": "execute_result"
    }
   ],
   "source": [
    "# Predict labels for a training set\n",
    "# Check F1-score accuracy on a training set\n",
    "predictions = clf.predict(X_train)\n",
    "f1_score(predictions, labels)"
   ]
  },
  {
   "cell_type": "code",
   "execution_count": 10,
   "metadata": {
    "collapsed": false
   },
   "outputs": [
    {
     "name": "stdout",
     "output_type": "stream",
     "text": [
      "The movie was realy awesome! :: label - Positive\n",
      "Complete waste of time. Nothing speciall. :: label - Negative\n"
     ]
    }
   ],
   "source": [
    "# Let's try to predict labels on some new data points\n",
    "new_reviews = ['The movie was realy awesome!', 'Complete waste of time. Nothing speciall.']\n",
    "\n",
    "X_test = vectorizer.transform(new_reviews)\n",
    "\n",
    "new_predictions = clf.predict(X_test)\n",
    "\n",
    "for review, label in zip(new_reviews, new_predictions):\n",
    "    print('{0} :: label - {1}'.format(review, inv_tag_mapping[label]))"
   ]
  }
 ],
 "metadata": {
  "kernelspec": {
   "display_name": "Python 3",
   "language": "python",
   "name": "python3"
  },
  "language_info": {
   "codemirror_mode": {
    "name": "ipython",
    "version": 3
   },
   "file_extension": ".py",
   "mimetype": "text/x-python",
   "name": "python",
   "nbconvert_exporter": "python",
   "pygments_lexer": "ipython3",
   "version": "3.5.2"
  }
 },
 "nbformat": 4,
 "nbformat_minor": 2
}
